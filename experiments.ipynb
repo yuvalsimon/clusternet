{
 "cells": [
  {
   "cell_type": "markdown",
   "metadata": {},
   "source": [
    "# Experiments"
   ]
  },
  {
   "cell_type": "code",
   "execution_count": null,
   "metadata": {},
   "outputs": [],
   "source": [
    "dataset = 'citeseer'\n",
    "normalize_features = True\n",
    "train_samples_per_class = 30\n",
    "seed = 24\n",
    "\n",
    "lr = 0.001\n",
    "epochs = 1000\n",
    "K = 6\n",
    "dropout = 0.2\n",
    "weight_decay = 5e-4\n",
    "hidden = 50\n",
    "embed_dim = 50\n",
    "num_cluster_iter = 1\n",
    "clustertemp = 70"
   ]
  },
  {
   "cell_type": "markdown",
   "metadata": {},
   "source": [
    "## Global arguments"
   ]
  },
  {
   "cell_type": "code",
   "execution_count": null,
   "metadata": {},
   "outputs": [],
   "source": [
    "import torch\n",
    "import numpy as np\n",
    "import torch.optim as optim\n",
    "import torch.nn as nn\n",
    "from models import GCNLink, GCNClusterNet, GCNDeep, GCNDeepSigmoid, GCN, GCNLinear\n",
    "from utils import make_normalized_adj, negative_sample, load_nofeatures, accuracy, calculate_accuracy\n",
    "\n",
    "import matplotlib.pyplot as plt"
   ]
  },
  {
   "cell_type": "code",
   "execution_count": null,
   "metadata": {},
   "outputs": [],
   "source": [
    "if(normalize_features):\n",
    "    from pygcn import load_data\n",
    "else:\n",
    "    from utils import load_data"
   ]
  },
  {
   "cell_type": "code",
   "execution_count": null,
   "metadata": {},
   "outputs": [],
   "source": [
    "no_cuda = True\n",
    "\n",
    "train_pct = 0.40\n",
    "cuda = not no_cuda and torch.cuda.is_available()\n",
    "\n",
    "np.random.seed(seed)\n",
    "torch.manual_seed(seed)"
   ]
  },
  {
   "cell_type": "markdown",
   "metadata": {},
   "source": [
    "## Preparations"
   ]
  },
  {
   "cell_type": "markdown",
   "metadata": {},
   "source": [
    "### Load data"
   ]
  },
  {
   "cell_type": "code",
   "execution_count": null,
   "metadata": {},
   "outputs": [],
   "source": [
    "adj_test, features_test, labels, idx_train, idx_val, idx_test = load_data('data/{}/'.format(dataset), '{}_test_{:.2f}'.format(dataset, train_pct))\n",
    "adj_valid, features_valid, labels, idx_train, idx_val, idx_test = load_data('data/{}/'.format(dataset), '{}_valid_{:.2f}'.format(dataset, train_pct))\n",
    "adj_train, features_train, labels, idx_train, idx_val, idx_test = load_data('data/{}/'.format(dataset), '{}_train_{:.2f}'.format(dataset, train_pct))\n",
    "\n",
    "adj_test = adj_test.coalesce()\n",
    "adj_valid = adj_valid.coalesce()\n",
    "adj_train = adj_train.coalesce()\n",
    "n = adj_train.shape[0]\n",
    "bin_adj_test = (adj_test.to_dense() > 0).float()\n",
    "bin_adj_train = (adj_train.to_dense() > 0).float()\n",
    "\n",
    "bin_adj_valid = (adj_valid.to_dense() > 0).float()\n",
    "bin_adj_all = (bin_adj_train + bin_adj_test + bin_adj_valid > 0).float()\n",
    "adj_all = make_normalized_adj(bin_adj_all.nonzero(), n)\n",
    "nfeat = features_test.shape[1]\n",
    "\n",
    "adj_all, features_test, labels, idx_train, idx_val, idx_test = load_data('data/{}/'.format(dataset), '{}'.format(dataset))\n",
    "adj_all = adj_all.coalesce()\n",
    "adj_test = adj_all\n",
    "\n",
    "nfeat = features_test.shape[1]"
   ]
  },
  {
   "cell_type": "markdown",
   "metadata": {},
   "source": [
    "### Select samples to train on"
   ]
  },
  {
   "cell_type": "code",
   "execution_count": null,
   "metadata": {},
   "outputs": [],
   "source": [
    "train_label_indices = []\n",
    "\n",
    "for i in range(K):\n",
    "    for _ in range(train_samples_per_class):\n",
    "        idx = np.random.randint(labels.shape[0])\n",
    "        while(idx in train_label_indices or labels[idx] != i):\n",
    "            idx = np.random.randint(labels.shape[0])\n",
    "        train_label_indices.append(idx)\n",
    "test_label_indices = list(set(range(labels.shape[0])) - set(train_label_indices))"
   ]
  },
  {
   "cell_type": "code",
   "execution_count": null,
   "metadata": {},
   "outputs": [],
   "source": [
    "def plot_if_possible(r=None, print_normalized=False):\n",
    "    if features_train.shape[1] == 2:\n",
    "        if normalize_features and not print_normalized:\n",
    "            x = []\n",
    "            y = []\n",
    "            with open(\"data/%s/%s.content\" % (dataset, dataset)) as ss:\n",
    "                for line in ss:\n",
    "                    _, xx, yy, _ = line.split(' ')\n",
    "                    x.append(float(xx))\n",
    "                    y.append(float(yy))\n",
    "        else:\n",
    "            x = features_train[:,0]\n",
    "            y = features_train[:,1]\n",
    "        \n",
    "        if print_normalized:\n",
    "            text = \" normalized\"\n",
    "        else:\n",
    "            text = \"\"\n",
    "        if r is None:\n",
    "            plt.scatter(x, y, c=labels, s=5)\n",
    "            plt.title(\"The%s dataset with true labels\" % text)\n",
    "        else:\n",
    "            predictions = r.argmax(dim=1)\n",
    "            plt.scatter(x, y, c=predictions, s=5)\n",
    "            plt.title(\"The%s dataset with predicted labels\" % text)\n",
    "        plt.xlabel('x')\n",
    "        plt.ylabel('y')\n",
    "        plt.show()"
   ]
  },
  {
   "cell_type": "code",
   "execution_count": null,
   "metadata": {},
   "outputs": [],
   "source": [
    "plot_if_possible()"
   ]
  },
  {
   "cell_type": "code",
   "execution_count": null,
   "metadata": {},
   "outputs": [],
   "source": [
    "if normalize_features:\n",
    "    plot_if_possible(print_normalized=True)"
   ]
  },
  {
   "cell_type": "code",
   "execution_count": null,
   "metadata": {},
   "outputs": [],
   "source": [
    "if cuda:\n",
    "    features = features.cuda()\n",
    "    adj_train = adj_train.cuda()\n",
    "    labels = labels.cuda()\n",
    "    idx_train = idx_train.cuda()\n",
    "    idx_val = idx_val.cuda()\n",
    "    idx_test = idx_test.cuda()"
   ]
  },
  {
   "cell_type": "markdown",
   "metadata": {},
   "source": [
    "## Training"
   ]
  },
  {
   "cell_type": "markdown",
   "metadata": {},
   "source": [
    "### Decision-Focused"
   ]
  },
  {
   "cell_type": "code",
   "execution_count": null,
   "metadata": {},
   "outputs": [],
   "source": [
    "model_cluster = GCNClusterNet(nfeat=nfeat,\n",
    "            nhid=hidden,\n",
    "            nout=embed_dim,\n",
    "            dropout=dropout,\n",
    "            K=K,\n",
    "            cluster_temp = clustertemp)\n",
    "if cuda:\n",
    "    model_cluster.cuda()\n",
    "\n",
    "optimizer = optim.Adam(model_cluster.parameters(),\n",
    "                       lr=lr, weight_decay=weight_decay)\n",
    "\n",
    "accuracies = []\n",
    "\n",
    "for t in range(epochs):\n",
    "    mu, r, embeds, dist = model_cluster(features_train, adj_train, 1)\n",
    "    loss = nn.functional.cross_entropy(r[train_label_indices], labels[train_label_indices])\n",
    "    optimizer.zero_grad()\n",
    "    loss.backward()\n",
    "    optimizer.step()\n",
    "    if (t==500):\n",
    "        num_cluster_iter = 5\n",
    "    accuracies.append(accuracy(r, labels).item())\n",
    "\n",
    "model_cluster.training = False\n",
    "mu, r, embeds, dist = model_cluster(features_train, adj_train, num_cluster_iter)\n",
    "print(\"ClusterNet accuracy: \", accuracy(r[test_label_indices], labels[test_label_indices]).item())\n",
    "plot_if_possible(r)"
   ]
  },
  {
   "cell_type": "code",
   "execution_count": null,
   "metadata": {},
   "outputs": [],
   "source": [
    "plt.plot(accuracies)\n",
    "plt.title('Accuracy')\n",
    "plt.xlabel('epoch')\n",
    "plt.ylabel('accuracy')\n",
    "plt.show()"
   ]
  },
  {
   "cell_type": "markdown",
   "metadata": {},
   "source": [
    "### E2E GCN"
   ]
  },
  {
   "cell_type": "code",
   "execution_count": null,
   "metadata": {},
   "outputs": [],
   "source": [
    "print('GCN from paper')\n",
    "\n",
    "model_gcn = GCNDeep(nfeat=nfeat,\n",
    "            nhid=hidden,\n",
    "            nout=K,\n",
    "            dropout=dropout,\n",
    "            nlayers=2)\n",
    "\n",
    "optimizer_gcn = optim.Adam(model_gcn.parameters(), lr = lr,\n",
    "                            weight_decay = weight_decay)\n",
    "\n",
    "accuracies = []\n",
    "\n",
    "for t in range(epochs):\n",
    "    r = model_gcn(features_train, adj_train)\n",
    "    loss = nn.functional.nll_loss(r[train_label_indices], labels[train_label_indices])\n",
    "    optimizer_gcn.zero_grad()\n",
    "    loss.backward()\n",
    "    optimizer_gcn.step()\n",
    "    accuracies.append(accuracy(r, labels).item())\n",
    "    \n",
    "print(\"e2e gcn accuracy: \", accuracy(r[test_label_indices], labels[test_label_indices]).item())\n",
    "plot_if_possible(r)"
   ]
  },
  {
   "cell_type": "code",
   "execution_count": null,
   "metadata": {},
   "outputs": [],
   "source": [
    "plt.plot(accuracies)\n",
    "plt.title('Accuracy')\n",
    "plt.xlabel('epoch')\n",
    "plt.ylabel('accuracy')\n",
    "plt.show()"
   ]
  },
  {
   "cell_type": "code",
   "execution_count": null,
   "metadata": {},
   "outputs": [],
   "source": [
    "print('linear GCN')\n",
    "\n",
    "model_gcn = GCNLinear(nfeat=nfeat,\n",
    "            nhid=hidden,\n",
    "            nout=embed_dim,\n",
    "            dropout=dropout,\n",
    "            nlayers=2,\n",
    "            K=K)\n",
    "\n",
    "optimizer_gcn = optim.Adam(model_gcn.parameters(), lr = lr,\n",
    "                            weight_decay = weight_decay)\n",
    "\n",
    "accuracies = []\n",
    "\n",
    "for t in range(epochs):\n",
    "    r = model_gcn(features_train, adj_train)\n",
    "    loss = nn.functional.nll_loss(r[train_label_indices], labels[train_label_indices])\n",
    "    optimizer_gcn.zero_grad()\n",
    "    loss.backward()\n",
    "    optimizer_gcn.step()\n",
    "    accuracies.append(accuracy(r, labels).item())\n",
    "    \n",
    "print(\"e2e gcn accuracy: \", accuracy(r[test_label_indices], labels[test_label_indices]).item())\n",
    "plot_if_possible(r)"
   ]
  },
  {
   "cell_type": "code",
   "execution_count": null,
   "metadata": {},
   "outputs": [],
   "source": [
    "plt.plot(accuracies)\n",
    "plt.title('Accuracy')\n",
    "plt.xlabel('epoch')\n",
    "plt.ylabel('accuracy')\n",
    "plt.show()"
   ]
  }
 ],
 "metadata": {
  "kernelspec": {
   "display_name": "Python 3",
   "language": "python",
   "name": "python3"
  },
  "language_info": {
   "codemirror_mode": {
    "name": "ipython",
    "version": 3
   },
   "file_extension": ".py",
   "mimetype": "text/x-python",
   "name": "python",
   "nbconvert_exporter": "python",
   "pygments_lexer": "ipython3",
   "version": "3.6.5"
  }
 },
 "nbformat": 4,
 "nbformat_minor": 4
}
